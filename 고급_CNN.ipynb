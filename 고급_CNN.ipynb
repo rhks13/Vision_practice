{
  "nbformat": 4,
  "nbformat_minor": 0,
  "metadata": {
    "colab": {
      "provenance": [],
      "gpuType": "T4",
      "mount_file_id": "1F7LURXHLC9T_jO1zRlT-2hc1BUcofoTa",
      "authorship_tag": "ABX9TyNbzK0QT105AkBlkrTwn99E",
      "include_colab_link": true
    },
    "kernelspec": {
      "name": "python3",
      "display_name": "Python 3"
    },
    "language_info": {
      "name": "python"
    },
    "accelerator": "GPU",
    "gpuClass": "standard"
  },
  "cells": [
    {
      "cell_type": "markdown",
      "metadata": {
        "id": "view-in-github",
        "colab_type": "text"
      },
      "source": [
        "<a href=\"https://colab.research.google.com/github/rhks13/Vision_practice/blob/main/%EA%B3%A0%EA%B8%89_CNN.ipynb\" target=\"_parent\"><img src=\"https://colab.research.google.com/assets/colab-badge.svg\" alt=\"Open In Colab\"/></a>"
      ]
    },
    {
      "cell_type": "code",
      "source": [],
      "metadata": {
        "id": "UFlDOEWHHiIS"
      },
      "execution_count": null,
      "outputs": []
    },
    {
      "cell_type": "code",
      "source": [
        "import tensorflow as tf\n",
        "from tensorflow import keras"
      ],
      "metadata": {
        "id": "iM8HVyxDhC6o"
      },
      "execution_count": null,
      "outputs": []
    },
    {
      "cell_type": "code",
      "execution_count": null,
      "metadata": {
        "id": "QqxdCOh5aE-M"
      },
      "outputs": [],
      "source": [
        "from keras.models import Sequential\n",
        "from keras.layers import Conv2D, AveragePooling2D, Flatten, Dense\n",
        "from tensorflow.keras.utils import to_categorical\n",
        "from keras.callbacks import ModelCheckpoint, LearningRateScheduler"
      ]
    },
    {
      "cell_type": "code",
      "source": [
        "mnist = keras.datasets.mnist\n",
        "(X_train, y_train), (X_test, y_test) = mnist.load_data()"
      ],
      "metadata": {
        "id": "X--a8xE6gFYF"
      },
      "execution_count": null,
      "outputs": []
    },
    {
      "cell_type": "code",
      "source": [
        "X_test.shape"
      ],
      "metadata": {
        "colab": {
          "base_uri": "https://localhost:8080/"
        },
        "id": "E8YDzUgghif6",
        "outputId": "99b170bc-54a3-4576-b900-1ba09105e8d4"
      },
      "execution_count": null,
      "outputs": [
        {
          "output_type": "execute_result",
          "data": {
            "text/plain": [
              "(10000, 28, 28)"
            ]
          },
          "metadata": {},
          "execution_count": 17
        }
      ]
    },
    {
      "cell_type": "markdown",
      "source": [
        "# **LeNet-5**"
      ],
      "metadata": {
        "id": "sDDyAc9jKNSX"
      }
    },
    {
      "cell_type": "code",
      "source": [
        "X_train = X_train.reshape((60000,28,28,1)) / 255.0\n",
        "X_test = X_test.reshape((10000,28,28,1)) / 255.0\n",
        "y_train = to_categorical(y_train)\n",
        "y_test = to_categorical(y_test)"
      ],
      "metadata": {
        "id": "9RotegkhDRre"
      },
      "execution_count": null,
      "outputs": []
    },
    {
      "cell_type": "code",
      "source": [
        "# 비어있는 순차형 모델 객체\n",
        "model = Sequential()\n",
        "#합성곱층 C1\n",
        "model.add(Conv2D(filters = 6, kernel_size = 5, strides = 1, activation = 'tanh', input_shape = (28,28,1), padding = 'same')) #paddig same -> 패딩 O / valid -> 패딩 X\n",
        "#풀링층 S2\n",
        "model.add(AveragePooling2D(pool_size = 2, strides = 2, padding = 'valid'))\n",
        "#합성곱층 C3\n",
        "model.add(Conv2D(filters = 16, kernel_size = 5, strides =1, activation = 'tanh', padding = 'valid'))\n",
        "#풀링층 S4\n",
        "model.add(AveragePooling2D(pool_size = 2, strides = 2, padding = 'valid'))\n",
        "#합성곱층 C5\n",
        "model.add(Conv2D(filters = 120, kernel_size = 5, strides =1, activation = 'tanh', padding = 'valid'))\n",
        "#CNN의 출력 1차원 벡터로 변환\n",
        "model.add(Flatten())\n",
        "#전결합층 FC6\n",
        "model.add(Dense(units = 84, activation = 'tanh'))\n",
        "#전결합층 FC7\n",
        "model.add(Dense(units = 10, activation = 'softmax'))"
      ],
      "metadata": {
        "id": "B-Fb_SZ7aOSq"
      },
      "execution_count": null,
      "outputs": []
    },
    {
      "cell_type": "code",
      "source": [
        "model.summary()"
      ],
      "metadata": {
        "colab": {
          "base_uri": "https://localhost:8080/"
        },
        "id": "yVvo9Pg0aRAX",
        "outputId": "8b222a0a-28ee-4629-ac03-be69aced8ea6"
      },
      "execution_count": null,
      "outputs": [
        {
          "output_type": "stream",
          "name": "stdout",
          "text": [
            "Model: \"sequential_1\"\n",
            "_________________________________________________________________\n",
            " Layer (type)                Output Shape              Param #   \n",
            "=================================================================\n",
            " conv2d_3 (Conv2D)           (None, 28, 28, 6)         156       \n",
            "                                                                 \n",
            " average_pooling2d_2 (Averag  (None, 14, 14, 6)        0         \n",
            " ePooling2D)                                                     \n",
            "                                                                 \n",
            " conv2d_4 (Conv2D)           (None, 10, 10, 16)        2416      \n",
            "                                                                 \n",
            " average_pooling2d_3 (Averag  (None, 5, 5, 16)         0         \n",
            " ePooling2D)                                                     \n",
            "                                                                 \n",
            " conv2d_5 (Conv2D)           (None, 1, 1, 120)         48120     \n",
            "                                                                 \n",
            " flatten_1 (Flatten)         (None, 120)               0         \n",
            "                                                                 \n",
            " dense_2 (Dense)             (None, 84)                10164     \n",
            "                                                                 \n",
            " dense_3 (Dense)             (None, 10)                850       \n",
            "                                                                 \n",
            "=================================================================\n",
            "Total params: 61,706\n",
            "Trainable params: 61,706\n",
            "Non-trainable params: 0\n",
            "_________________________________________________________________\n"
          ]
        }
      ]
    },
    {
      "cell_type": "code",
      "source": [
        "#학습률 감쇠\n",
        "def lr_schedule(epoch):\n",
        "  if epoch <=2:\n",
        "      lr = 5e-4\n",
        "  elif epoch >2 and epoch <=5:\n",
        "      lr = 2e-4\n",
        "  elif epoch >5 and epoch <=9:\n",
        "      lr = 5e-5\n",
        "  else:\n",
        "      lr = 1e-5\n",
        "  return lr"
      ],
      "metadata": {
        "id": "4ic6MQcHdfdD"
      },
      "execution_count": null,
      "outputs": []
    },
    {
      "cell_type": "code",
      "source": [
        "lr_scheduler = LearningRateScheduler(lr_schedule)"
      ],
      "metadata": {
        "id": "-Ql7CjjXdw7D"
      },
      "execution_count": null,
      "outputs": []
    },
    {
      "cell_type": "code",
      "source": [
        "checkpoint = ModelCheckpoint(filepath = 'path_to_save_file/file.hdf5',\n",
        "                             monitor = 'val_acc',\n",
        "                             verbose = 1,\n",
        "                             save_best_only = True)\n",
        "callbacks = [checkpoint, lr_scheduler]\n",
        "model.compile(loss = 'categorical_crossentropy', optimizer = 'sgd', metrics =['accuracy'])"
      ],
      "metadata": {
        "id": "FB9XWvSudw3f"
      },
      "execution_count": null,
      "outputs": []
    },
    {
      "cell_type": "code",
      "source": [
        "hist = model.fit(X_train, y_train, batch_size = 32, epochs = 20,  callbacks = callbacks, verbose = 2, shuffle=True)"
      ],
      "metadata": {
        "colab": {
          "base_uri": "https://localhost:8080/"
        },
        "id": "ahlfuTo8eaqj",
        "outputId": "fb90c9cc-d55d-4ecb-fb5a-54cd86065b6f"
      },
      "execution_count": null,
      "outputs": [
        {
          "output_type": "stream",
          "name": "stdout",
          "text": [
            "Epoch 1/20\n"
          ]
        },
        {
          "output_type": "stream",
          "name": "stderr",
          "text": [
            "WARNING:tensorflow:Can save best model only with val_acc available, skipping.\n"
          ]
        },
        {
          "output_type": "stream",
          "name": "stdout",
          "text": [
            "1875/1875 - 7s - loss: 2.1868 - accuracy: 0.4262 - lr: 5.0000e-04 - 7s/epoch - 4ms/step\n",
            "Epoch 2/20\n"
          ]
        },
        {
          "output_type": "stream",
          "name": "stderr",
          "text": [
            "WARNING:tensorflow:Can save best model only with val_acc available, skipping.\n"
          ]
        },
        {
          "output_type": "stream",
          "name": "stdout",
          "text": [
            "1875/1875 - 6s - loss: 1.6317 - accuracy: 0.7116 - lr: 5.0000e-04 - 6s/epoch - 3ms/step\n",
            "Epoch 3/20\n"
          ]
        },
        {
          "output_type": "stream",
          "name": "stderr",
          "text": [
            "WARNING:tensorflow:Can save best model only with val_acc available, skipping.\n"
          ]
        },
        {
          "output_type": "stream",
          "name": "stdout",
          "text": [
            "1875/1875 - 6s - loss: 0.9956 - accuracy: 0.7936 - lr: 5.0000e-04 - 6s/epoch - 3ms/step\n",
            "Epoch 4/20\n"
          ]
        },
        {
          "output_type": "stream",
          "name": "stderr",
          "text": [
            "WARNING:tensorflow:Can save best model only with val_acc available, skipping.\n"
          ]
        },
        {
          "output_type": "stream",
          "name": "stdout",
          "text": [
            "1875/1875 - 5s - loss: 0.7800 - accuracy: 0.8249 - lr: 2.0000e-04 - 5s/epoch - 3ms/step\n",
            "Epoch 5/20\n"
          ]
        },
        {
          "output_type": "stream",
          "name": "stderr",
          "text": [
            "WARNING:tensorflow:Can save best model only with val_acc available, skipping.\n"
          ]
        },
        {
          "output_type": "stream",
          "name": "stdout",
          "text": [
            "1875/1875 - 6s - loss: 0.7105 - accuracy: 0.8357 - lr: 2.0000e-04 - 6s/epoch - 3ms/step\n",
            "Epoch 6/20\n"
          ]
        },
        {
          "output_type": "stream",
          "name": "stderr",
          "text": [
            "WARNING:tensorflow:Can save best model only with val_acc available, skipping.\n"
          ]
        },
        {
          "output_type": "stream",
          "name": "stdout",
          "text": [
            "1875/1875 - 6s - loss: 0.6581 - accuracy: 0.8445 - lr: 2.0000e-04 - 6s/epoch - 3ms/step\n",
            "Epoch 7/20\n"
          ]
        },
        {
          "output_type": "stream",
          "name": "stderr",
          "text": [
            "WARNING:tensorflow:Can save best model only with val_acc available, skipping.\n"
          ]
        },
        {
          "output_type": "stream",
          "name": "stdout",
          "text": [
            "1875/1875 - 6s - loss: 0.6309 - accuracy: 0.8496 - lr: 5.0000e-05 - 6s/epoch - 3ms/step\n",
            "Epoch 8/20\n"
          ]
        },
        {
          "output_type": "stream",
          "name": "stderr",
          "text": [
            "WARNING:tensorflow:Can save best model only with val_acc available, skipping.\n"
          ]
        },
        {
          "output_type": "stream",
          "name": "stdout",
          "text": [
            "1875/1875 - 6s - loss: 0.6212 - accuracy: 0.8513 - lr: 5.0000e-05 - 6s/epoch - 3ms/step\n",
            "Epoch 9/20\n"
          ]
        },
        {
          "output_type": "stream",
          "name": "stderr",
          "text": [
            "WARNING:tensorflow:Can save best model only with val_acc available, skipping.\n"
          ]
        },
        {
          "output_type": "stream",
          "name": "stdout",
          "text": [
            "1875/1875 - 6s - loss: 0.6121 - accuracy: 0.8526 - lr: 5.0000e-05 - 6s/epoch - 3ms/step\n",
            "Epoch 10/20\n"
          ]
        },
        {
          "output_type": "stream",
          "name": "stderr",
          "text": [
            "WARNING:tensorflow:Can save best model only with val_acc available, skipping.\n"
          ]
        },
        {
          "output_type": "stream",
          "name": "stdout",
          "text": [
            "1875/1875 - 6s - loss: 0.6034 - accuracy: 0.8542 - lr: 5.0000e-05 - 6s/epoch - 3ms/step\n",
            "Epoch 11/20\n"
          ]
        },
        {
          "output_type": "stream",
          "name": "stderr",
          "text": [
            "WARNING:tensorflow:Can save best model only with val_acc available, skipping.\n"
          ]
        },
        {
          "output_type": "stream",
          "name": "stdout",
          "text": [
            "1875/1875 - 6s - loss: 0.5984 - accuracy: 0.8551 - lr: 1.0000e-05 - 6s/epoch - 3ms/step\n",
            "Epoch 12/20\n"
          ]
        },
        {
          "output_type": "stream",
          "name": "stderr",
          "text": [
            "WARNING:tensorflow:Can save best model only with val_acc available, skipping.\n"
          ]
        },
        {
          "output_type": "stream",
          "name": "stdout",
          "text": [
            "1875/1875 - 6s - loss: 0.5967 - accuracy: 0.8554 - lr: 1.0000e-05 - 6s/epoch - 3ms/step\n",
            "Epoch 13/20\n"
          ]
        },
        {
          "output_type": "stream",
          "name": "stderr",
          "text": [
            "WARNING:tensorflow:Can save best model only with val_acc available, skipping.\n"
          ]
        },
        {
          "output_type": "stream",
          "name": "stdout",
          "text": [
            "1875/1875 - 6s - loss: 0.5951 - accuracy: 0.8555 - lr: 1.0000e-05 - 6s/epoch - 3ms/step\n",
            "Epoch 14/20\n"
          ]
        },
        {
          "output_type": "stream",
          "name": "stderr",
          "text": [
            "WARNING:tensorflow:Can save best model only with val_acc available, skipping.\n"
          ]
        },
        {
          "output_type": "stream",
          "name": "stdout",
          "text": [
            "1875/1875 - 6s - loss: 0.5935 - accuracy: 0.8557 - lr: 1.0000e-05 - 6s/epoch - 3ms/step\n",
            "Epoch 15/20\n"
          ]
        },
        {
          "output_type": "stream",
          "name": "stderr",
          "text": [
            "WARNING:tensorflow:Can save best model only with val_acc available, skipping.\n"
          ]
        },
        {
          "output_type": "stream",
          "name": "stdout",
          "text": [
            "1875/1875 - 6s - loss: 0.5919 - accuracy: 0.8559 - lr: 1.0000e-05 - 6s/epoch - 3ms/step\n",
            "Epoch 16/20\n"
          ]
        },
        {
          "output_type": "stream",
          "name": "stderr",
          "text": [
            "WARNING:tensorflow:Can save best model only with val_acc available, skipping.\n"
          ]
        },
        {
          "output_type": "stream",
          "name": "stdout",
          "text": [
            "1875/1875 - 6s - loss: 0.5903 - accuracy: 0.8562 - lr: 1.0000e-05 - 6s/epoch - 3ms/step\n",
            "Epoch 17/20\n"
          ]
        },
        {
          "output_type": "stream",
          "name": "stderr",
          "text": [
            "WARNING:tensorflow:Can save best model only with val_acc available, skipping.\n"
          ]
        },
        {
          "output_type": "stream",
          "name": "stdout",
          "text": [
            "1875/1875 - 6s - loss: 0.5888 - accuracy: 0.8564 - lr: 1.0000e-05 - 6s/epoch - 3ms/step\n",
            "Epoch 18/20\n"
          ]
        },
        {
          "output_type": "stream",
          "name": "stderr",
          "text": [
            "WARNING:tensorflow:Can save best model only with val_acc available, skipping.\n"
          ]
        },
        {
          "output_type": "stream",
          "name": "stdout",
          "text": [
            "1875/1875 - 6s - loss: 0.5872 - accuracy: 0.8567 - lr: 1.0000e-05 - 6s/epoch - 3ms/step\n",
            "Epoch 19/20\n"
          ]
        },
        {
          "output_type": "stream",
          "name": "stderr",
          "text": [
            "WARNING:tensorflow:Can save best model only with val_acc available, skipping.\n"
          ]
        },
        {
          "output_type": "stream",
          "name": "stdout",
          "text": [
            "1875/1875 - 6s - loss: 0.5857 - accuracy: 0.8569 - lr: 1.0000e-05 - 6s/epoch - 3ms/step\n",
            "Epoch 20/20\n"
          ]
        },
        {
          "output_type": "stream",
          "name": "stderr",
          "text": [
            "WARNING:tensorflow:Can save best model only with val_acc available, skipping.\n"
          ]
        },
        {
          "output_type": "stream",
          "name": "stdout",
          "text": [
            "1875/1875 - 6s - loss: 0.5842 - accuracy: 0.8570 - lr: 1.0000e-05 - 6s/epoch - 3ms/step\n"
          ]
        }
      ]
    },
    {
      "cell_type": "code",
      "source": [
        "model.load_weights('path_to_save_file/file.hdf5')"
      ],
      "metadata": {
        "colab": {
          "base_uri": "https://localhost:8080/",
          "height": 437
        },
        "id": "S4lOhrfJfcd2",
        "outputId": "3e068ea3-6326-4f33-95e3-e6c9a623d445"
      },
      "execution_count": null,
      "outputs": [
        {
          "output_type": "error",
          "ename": "FileNotFoundError",
          "evalue": "ignored",
          "traceback": [
            "\u001b[0;31m---------------------------------------------------------------------------\u001b[0m",
            "\u001b[0;31mFileNotFoundError\u001b[0m                         Traceback (most recent call last)",
            "\u001b[0;32m<ipython-input-26-5042d6387f67>\u001b[0m in \u001b[0;36m<cell line: 1>\u001b[0;34m()\u001b[0m\n\u001b[0;32m----> 1\u001b[0;31m \u001b[0mmodel\u001b[0m\u001b[0;34m.\u001b[0m\u001b[0mload_weights\u001b[0m\u001b[0;34m(\u001b[0m\u001b[0;34m'path_to_save_file/file.hdf5'\u001b[0m\u001b[0;34m)\u001b[0m\u001b[0;34m\u001b[0m\u001b[0;34m\u001b[0m\u001b[0m\n\u001b[0m",
            "\u001b[0;32m/usr/local/lib/python3.10/dist-packages/keras/utils/traceback_utils.py\u001b[0m in \u001b[0;36merror_handler\u001b[0;34m(*args, **kwargs)\u001b[0m\n\u001b[1;32m     68\u001b[0m             \u001b[0;31m# To get the full stack trace, call:\u001b[0m\u001b[0;34m\u001b[0m\u001b[0;34m\u001b[0m\u001b[0m\n\u001b[1;32m     69\u001b[0m             \u001b[0;31m# `tf.debugging.disable_traceback_filtering()`\u001b[0m\u001b[0;34m\u001b[0m\u001b[0;34m\u001b[0m\u001b[0m\n\u001b[0;32m---> 70\u001b[0;31m             \u001b[0;32mraise\u001b[0m \u001b[0me\u001b[0m\u001b[0;34m.\u001b[0m\u001b[0mwith_traceback\u001b[0m\u001b[0;34m(\u001b[0m\u001b[0mfiltered_tb\u001b[0m\u001b[0;34m)\u001b[0m \u001b[0;32mfrom\u001b[0m \u001b[0;32mNone\u001b[0m\u001b[0;34m\u001b[0m\u001b[0;34m\u001b[0m\u001b[0m\n\u001b[0m\u001b[1;32m     71\u001b[0m         \u001b[0;32mfinally\u001b[0m\u001b[0;34m:\u001b[0m\u001b[0;34m\u001b[0m\u001b[0;34m\u001b[0m\u001b[0m\n\u001b[1;32m     72\u001b[0m             \u001b[0;32mdel\u001b[0m \u001b[0mfiltered_tb\u001b[0m\u001b[0;34m\u001b[0m\u001b[0;34m\u001b[0m\u001b[0m\n",
            "\u001b[0;32m/usr/local/lib/python3.10/dist-packages/h5py/_hl/files.py\u001b[0m in \u001b[0;36m__init__\u001b[0;34m(self, name, mode, driver, libver, userblock_size, swmr, rdcc_nslots, rdcc_nbytes, rdcc_w0, track_order, fs_strategy, fs_persist, fs_threshold, fs_page_size, page_buf_size, min_meta_keep, min_raw_keep, locking, alignment_threshold, alignment_interval, meta_block_size, **kwds)\u001b[0m\n\u001b[1;32m    565\u001b[0m                                  \u001b[0mfs_persist\u001b[0m\u001b[0;34m=\u001b[0m\u001b[0mfs_persist\u001b[0m\u001b[0;34m,\u001b[0m \u001b[0mfs_threshold\u001b[0m\u001b[0;34m=\u001b[0m\u001b[0mfs_threshold\u001b[0m\u001b[0;34m,\u001b[0m\u001b[0;34m\u001b[0m\u001b[0;34m\u001b[0m\u001b[0m\n\u001b[1;32m    566\u001b[0m                                  fs_page_size=fs_page_size)\n\u001b[0;32m--> 567\u001b[0;31m                 \u001b[0mfid\u001b[0m \u001b[0;34m=\u001b[0m \u001b[0mmake_fid\u001b[0m\u001b[0;34m(\u001b[0m\u001b[0mname\u001b[0m\u001b[0;34m,\u001b[0m \u001b[0mmode\u001b[0m\u001b[0;34m,\u001b[0m \u001b[0muserblock_size\u001b[0m\u001b[0;34m,\u001b[0m \u001b[0mfapl\u001b[0m\u001b[0;34m,\u001b[0m \u001b[0mfcpl\u001b[0m\u001b[0;34m,\u001b[0m \u001b[0mswmr\u001b[0m\u001b[0;34m=\u001b[0m\u001b[0mswmr\u001b[0m\u001b[0;34m)\u001b[0m\u001b[0;34m\u001b[0m\u001b[0;34m\u001b[0m\u001b[0m\n\u001b[0m\u001b[1;32m    568\u001b[0m \u001b[0;34m\u001b[0m\u001b[0m\n\u001b[1;32m    569\u001b[0m             \u001b[0;32mif\u001b[0m \u001b[0misinstance\u001b[0m\u001b[0;34m(\u001b[0m\u001b[0mlibver\u001b[0m\u001b[0;34m,\u001b[0m \u001b[0mtuple\u001b[0m\u001b[0;34m)\u001b[0m\u001b[0;34m:\u001b[0m\u001b[0;34m\u001b[0m\u001b[0;34m\u001b[0m\u001b[0m\n",
            "\u001b[0;32m/usr/local/lib/python3.10/dist-packages/h5py/_hl/files.py\u001b[0m in \u001b[0;36mmake_fid\u001b[0;34m(name, mode, userblock_size, fapl, fcpl, swmr)\u001b[0m\n\u001b[1;32m    229\u001b[0m         \u001b[0;32mif\u001b[0m \u001b[0mswmr\u001b[0m \u001b[0;32mand\u001b[0m \u001b[0mswmr_support\u001b[0m\u001b[0;34m:\u001b[0m\u001b[0;34m\u001b[0m\u001b[0;34m\u001b[0m\u001b[0m\n\u001b[1;32m    230\u001b[0m             \u001b[0mflags\u001b[0m \u001b[0;34m|=\u001b[0m \u001b[0mh5f\u001b[0m\u001b[0;34m.\u001b[0m\u001b[0mACC_SWMR_READ\u001b[0m\u001b[0;34m\u001b[0m\u001b[0;34m\u001b[0m\u001b[0m\n\u001b[0;32m--> 231\u001b[0;31m         \u001b[0mfid\u001b[0m \u001b[0;34m=\u001b[0m \u001b[0mh5f\u001b[0m\u001b[0;34m.\u001b[0m\u001b[0mopen\u001b[0m\u001b[0;34m(\u001b[0m\u001b[0mname\u001b[0m\u001b[0;34m,\u001b[0m \u001b[0mflags\u001b[0m\u001b[0;34m,\u001b[0m \u001b[0mfapl\u001b[0m\u001b[0;34m=\u001b[0m\u001b[0mfapl\u001b[0m\u001b[0;34m)\u001b[0m\u001b[0;34m\u001b[0m\u001b[0;34m\u001b[0m\u001b[0m\n\u001b[0m\u001b[1;32m    232\u001b[0m     \u001b[0;32melif\u001b[0m \u001b[0mmode\u001b[0m \u001b[0;34m==\u001b[0m \u001b[0;34m'r+'\u001b[0m\u001b[0;34m:\u001b[0m\u001b[0;34m\u001b[0m\u001b[0;34m\u001b[0m\u001b[0m\n\u001b[1;32m    233\u001b[0m         \u001b[0mfid\u001b[0m \u001b[0;34m=\u001b[0m \u001b[0mh5f\u001b[0m\u001b[0;34m.\u001b[0m\u001b[0mopen\u001b[0m\u001b[0;34m(\u001b[0m\u001b[0mname\u001b[0m\u001b[0;34m,\u001b[0m \u001b[0mh5f\u001b[0m\u001b[0;34m.\u001b[0m\u001b[0mACC_RDWR\u001b[0m\u001b[0;34m,\u001b[0m \u001b[0mfapl\u001b[0m\u001b[0;34m=\u001b[0m\u001b[0mfapl\u001b[0m\u001b[0;34m)\u001b[0m\u001b[0;34m\u001b[0m\u001b[0;34m\u001b[0m\u001b[0m\n",
            "\u001b[0;32mh5py/_objects.pyx\u001b[0m in \u001b[0;36mh5py._objects.with_phil.wrapper\u001b[0;34m()\u001b[0m\n",
            "\u001b[0;32mh5py/_objects.pyx\u001b[0m in \u001b[0;36mh5py._objects.with_phil.wrapper\u001b[0;34m()\u001b[0m\n",
            "\u001b[0;32mh5py/h5f.pyx\u001b[0m in \u001b[0;36mh5py.h5f.open\u001b[0;34m()\u001b[0m\n",
            "\u001b[0;31mFileNotFoundError\u001b[0m: [Errno 2] Unable to open file (unable to open file: name = 'path_to_save_file/file.hdf5', errno = 2, error message = 'No such file or directory', flags = 0, o_flags = 0)"
          ]
        }
      ]
    },
    {
      "cell_type": "code",
      "source": [
        "score = model.evaluate(X_test, y_test, verbose=0)\n",
        "print('\\n', 'test accuracy: ', score[1])"
      ],
      "metadata": {
        "id": "FXmxNNeWfoZZ",
        "colab": {
          "base_uri": "https://localhost:8080/"
        },
        "outputId": "a20e47d9-3035-4cbb-c05e-a515b5f43192"
      },
      "execution_count": null,
      "outputs": [
        {
          "output_type": "stream",
          "name": "stdout",
          "text": [
            "\n",
            " test accuracy:  0.8666999936103821\n"
          ]
        }
      ]
    },
    {
      "cell_type": "markdown",
      "source": [
        "# **AlexNet**"
      ],
      "metadata": {
        "id": "qw7TB2AHKVuM"
      }
    },
    {
      "cell_type": "code",
      "source": [
        "from keras.models import Sequential\n",
        "from keras.regularizers import l2\n",
        "from keras.layers import Conv2D, AveragePooling2D, Flatten, Dense, Activation, MaxPool2D, BatchNormalization, Dropout"
      ],
      "metadata": {
        "id": "F4pr2JCAKbQo"
      },
      "execution_count": null,
      "outputs": []
    },
    {
      "cell_type": "code",
      "source": [
        "model = Sequential()\n",
        "# 첫 번째 층 (Conv + POOL + 배치정규화)\n",
        "model.add(Conv2D(filters = 96, kernel_size = (11,11), strides = (4,4), padding = 'valid', input_shape = (227, 227,3)))    #kernel_size, stride 숫자 하나만 써도 되고 둘 다 써도 됨\n",
        "model.add(Activation('relu'))\n",
        "model.add(MaxPool2D(pool_size = (3,3), strides = (2,2)))\n",
        "model.add(BatchNormalization())\n",
        "# 두 번째 층 (Conv + POOL + 배치정규화)\n",
        "model.add(Conv2D(filters = 256, kernel_size = (5,5), strides = (1,1), padding = 'same', kernel_regularizer = l2(0.0005)))\n",
        "model.add(Activation('relu'))\n",
        "model.add(MaxPool2D(pool_size = (3,3), strides = (2,2), padding = 'valid'))\n",
        "model.add(BatchNormalization())\n",
        "# 세 번째 층 (Conv + 배치정규화)\n",
        "model.add(Conv2D(filters = 384, kernel_size = (3,3), strides = (1,1), padding = 'same', kernel_regularizer = l2(0.0005)))\n",
        "model.add(Activation('relu'))\n",
        "model.add(BatchNormalization())\n",
        "# 네 번째 층 (Conv + 배치정규화)\n",
        "model.add(Conv2D(filters = 384, kernel_size = (3,3), strides = (1,1), padding = 'same', kernel_regularizer = l2(0.0005)))\n",
        "model.add(Activation('relu'))\n",
        "model.add(BatchNormalization())\n",
        "# 다섯 번째 층 (Conv + 배치정규화)\n",
        "model.add(Conv2D(filters = 256, kernel_size = (3,3), strides = (1,1), padding = 'same', kernel_regularizer = l2(0.0005)))\n",
        "model.add(Activation('relu'))\n",
        "model.add(BatchNormalization())\n",
        "# Max Pool 후 1차원 변환\n",
        "model.add(MaxPool2D(pool_size = (3,3), strides = (2,2), padding = 'valid'))\n",
        "model.add(Flatten())\n",
        "# 여섯 번째 층 (FC + 드롭아웃)\n",
        "model.add(Dense(units = 4096, activation = 'relu'))\n",
        "model.add(Dropout(0.5))\n",
        "# 일곱 번째 층 (FC + 드롭아웃)\n",
        "model.add(Dense(units = 4096, activation = 'relu'))\n",
        "model.add(Dropout(0.5))\n",
        "# 여덟 번째 층 (FC (소프트맥스))\n",
        "model.add(Dense(units = 1000, activation = 'softmax'))\n",
        "\n",
        "model.summary()"
      ],
      "metadata": {
        "colab": {
          "base_uri": "https://localhost:8080/"
        },
        "id": "RUmbz7FKK_qZ",
        "outputId": "fdc72ddb-1182-40c5-bc09-d648c9ba5b45"
      },
      "execution_count": null,
      "outputs": [
        {
          "output_type": "stream",
          "name": "stdout",
          "text": [
            "Model: \"sequential_3\"\n",
            "_________________________________________________________________\n",
            " Layer (type)                Output Shape              Param #   \n",
            "=================================================================\n",
            " conv2d_12 (Conv2D)          (None, 55, 55, 96)        34944     \n",
            "                                                                 \n",
            " activation_5 (Activation)   (None, 55, 55, 96)        0         \n",
            "                                                                 \n",
            " max_pooling2d_3 (MaxPooling  (None, 27, 27, 96)       0         \n",
            " 2D)                                                             \n",
            "                                                                 \n",
            " batch_normalization_5 (Batc  (None, 27, 27, 96)       384       \n",
            " hNormalization)                                                 \n",
            "                                                                 \n",
            " conv2d_13 (Conv2D)          (None, 27, 27, 256)       614656    \n",
            "                                                                 \n",
            " activation_6 (Activation)   (None, 27, 27, 256)       0         \n",
            "                                                                 \n",
            " max_pooling2d_4 (MaxPooling  (None, 13, 13, 256)      0         \n",
            " 2D)                                                             \n",
            "                                                                 \n",
            " batch_normalization_6 (Batc  (None, 13, 13, 256)      1024      \n",
            " hNormalization)                                                 \n",
            "                                                                 \n",
            " conv2d_14 (Conv2D)          (None, 13, 13, 384)       885120    \n",
            "                                                                 \n",
            " activation_7 (Activation)   (None, 13, 13, 384)       0         \n",
            "                                                                 \n",
            " batch_normalization_7 (Batc  (None, 13, 13, 384)      1536      \n",
            " hNormalization)                                                 \n",
            "                                                                 \n",
            " conv2d_15 (Conv2D)          (None, 13, 13, 384)       1327488   \n",
            "                                                                 \n",
            " activation_8 (Activation)   (None, 13, 13, 384)       0         \n",
            "                                                                 \n",
            " batch_normalization_8 (Batc  (None, 13, 13, 384)      1536      \n",
            " hNormalization)                                                 \n",
            "                                                                 \n",
            " conv2d_16 (Conv2D)          (None, 13, 13, 256)       884992    \n",
            "                                                                 \n",
            " activation_9 (Activation)   (None, 13, 13, 256)       0         \n",
            "                                                                 \n",
            " batch_normalization_9 (Batc  (None, 13, 13, 256)      1024      \n",
            " hNormalization)                                                 \n",
            "                                                                 \n",
            " max_pooling2d_5 (MaxPooling  (None, 6, 6, 256)        0         \n",
            " 2D)                                                             \n",
            "                                                                 \n",
            " flatten_3 (Flatten)         (None, 9216)              0         \n",
            "                                                                 \n",
            " dense_7 (Dense)             (None, 4096)              37752832  \n",
            "                                                                 \n",
            " dropout_2 (Dropout)         (None, 4096)              0         \n",
            "                                                                 \n",
            " dense_8 (Dense)             (None, 4096)              16781312  \n",
            "                                                                 \n",
            " dropout_3 (Dropout)         (None, 4096)              0         \n",
            "                                                                 \n",
            " dense_9 (Dense)             (None, 1000)              4097000   \n",
            "                                                                 \n",
            "=================================================================\n",
            "Total params: 62,383,848\n",
            "Trainable params: 62,381,096\n",
            "Non-trainable params: 2,752\n",
            "_________________________________________________________________\n"
          ]
        }
      ]
    },
    {
      "cell_type": "markdown",
      "source": [
        "# **VGG16**"
      ],
      "metadata": {
        "id": "VgUNhHInNV8z"
      }
    },
    {
      "cell_type": "code",
      "source": [
        "model = Sequential()\n",
        "\n",
        "# 블록 #1\n",
        "model.add(Conv2D(filters = 64, kernel_size = (3,3), strides = (1,1), activation = 'relu',padding = 'same', input_shape = (224, 224,3))) \n",
        "model.add(Conv2D(filters = 64, kernel_size = (3,3), strides = (1,1), activation = 'relu',padding = 'same')) \n",
        "model.add(MaxPool2D(pool_size = (2,2), strides = (2,2)))\n",
        "\n",
        "# 블록 #2\n",
        "model.add(Conv2D(filters = 128, kernel_size = (3,3), strides = (1,1), activation = 'relu',padding = 'same')) \n",
        "model.add(Conv2D(filters = 128, kernel_size = (3,3), strides = (1,1), activation = 'relu',padding = 'same')) \n",
        "model.add(MaxPool2D(pool_size = (2,2), strides = (2,2)))\n",
        "\n",
        "# 블록 #3\n",
        "model.add(Conv2D(filters = 258, kernel_size = (3,3), strides = (1,1), activation = 'relu',padding = 'same')) \n",
        "model.add(Conv2D(filters = 258, kernel_size = (3,3), strides = (1,1), activation = 'relu',padding = 'same')) \n",
        "model.add(Conv2D(filters = 258, kernel_size = (3,3), strides = (1,1), activation = 'relu',padding = 'same')) \n",
        "model.add(MaxPool2D(pool_size = (2,2), strides = (2,2)))\n",
        "\n",
        "# 블록 #4\n",
        "model.add(Conv2D(filters = 512, kernel_size = (3,3), strides = (1,1), activation = 'relu',padding = 'same')) \n",
        "model.add(Conv2D(filters = 512, kernel_size = (3,3), strides = (1,1), activation = 'relu',padding = 'same')) \n",
        "model.add(Conv2D(filters = 512, kernel_size = (3,3), strides = (1,1), activation = 'relu',padding = 'same')) \n",
        "model.add(MaxPool2D(pool_size = (2,2), strides = (2,2)))\n",
        "\n",
        "# 블록 #5\n",
        "model.add(Conv2D(filters = 512, kernel_size = (3,3), strides = (1,1), activation = 'relu',padding = 'same')) \n",
        "model.add(Conv2D(filters = 512, kernel_size = (3,3), strides = (1,1), activation = 'relu',padding = 'same')) \n",
        "model.add(Conv2D(filters = 512, kernel_size = (3,3), strides = (1,1), activation = 'relu',padding = 'same')) \n",
        "model.add(MaxPool2D(pool_size = (2,2), strides = (2,2)))\n",
        "\n",
        "# 블록 #6(분류기)\n",
        "model.add(Flatten())\n",
        "model.add(Dense(4096, activation = 'relu'))\n",
        "model.add(Dropout(0.5))\n",
        "model.add(Dense(4096, activation = 'relu'))\n",
        "model.add(Dropout(0.5))\n",
        "model.add(Dense(1000, activation = 'softmax'))\n",
        "\n",
        "model.summary()"
      ],
      "metadata": {
        "colab": {
          "base_uri": "https://localhost:8080/"
        },
        "id": "nKnk-hFFNY7p",
        "outputId": "8984d127-a2b1-4424-8b54-29a60e32fcb7"
      },
      "execution_count": null,
      "outputs": [
        {
          "output_type": "stream",
          "name": "stdout",
          "text": [
            "Model: \"sequential_5\"\n",
            "_________________________________________________________________\n",
            " Layer (type)                Output Shape              Param #   \n",
            "=================================================================\n",
            " conv2d_30 (Conv2D)          (None, 224, 224, 64)      1792      \n",
            "                                                                 \n",
            " conv2d_31 (Conv2D)          (None, 224, 224, 64)      36928     \n",
            "                                                                 \n",
            " max_pooling2d_11 (MaxPoolin  (None, 112, 112, 64)     0         \n",
            " g2D)                                                            \n",
            "                                                                 \n",
            " conv2d_32 (Conv2D)          (None, 112, 112, 128)     73856     \n",
            "                                                                 \n",
            " conv2d_33 (Conv2D)          (None, 112, 112, 128)     147584    \n",
            "                                                                 \n",
            " max_pooling2d_12 (MaxPoolin  (None, 56, 56, 128)      0         \n",
            " g2D)                                                            \n",
            "                                                                 \n",
            " conv2d_34 (Conv2D)          (None, 56, 56, 258)       297474    \n",
            "                                                                 \n",
            " conv2d_35 (Conv2D)          (None, 56, 56, 258)       599334    \n",
            "                                                                 \n",
            " conv2d_36 (Conv2D)          (None, 56, 56, 258)       599334    \n",
            "                                                                 \n",
            " max_pooling2d_13 (MaxPoolin  (None, 28, 28, 258)      0         \n",
            " g2D)                                                            \n",
            "                                                                 \n",
            " conv2d_37 (Conv2D)          (None, 28, 28, 512)       1189376   \n",
            "                                                                 \n",
            " conv2d_38 (Conv2D)          (None, 28, 28, 512)       2359808   \n",
            "                                                                 \n",
            " conv2d_39 (Conv2D)          (None, 28, 28, 512)       2359808   \n",
            "                                                                 \n",
            " max_pooling2d_14 (MaxPoolin  (None, 14, 14, 512)      0         \n",
            " g2D)                                                            \n",
            "                                                                 \n",
            " conv2d_40 (Conv2D)          (None, 14, 14, 512)       2359808   \n",
            "                                                                 \n",
            " conv2d_41 (Conv2D)          (None, 14, 14, 512)       2359808   \n",
            "                                                                 \n",
            " conv2d_42 (Conv2D)          (None, 14, 14, 512)       2359808   \n",
            "                                                                 \n",
            " max_pooling2d_15 (MaxPoolin  (None, 7, 7, 512)        0         \n",
            " g2D)                                                            \n",
            "                                                                 \n",
            " flatten_5 (Flatten)         (None, 25088)             0         \n",
            "                                                                 \n",
            " dense_13 (Dense)            (None, 4096)              102764544 \n",
            "                                                                 \n",
            " dropout_6 (Dropout)         (None, 4096)              0         \n",
            "                                                                 \n",
            " dense_14 (Dense)            (None, 4096)              16781312  \n",
            "                                                                 \n",
            " dropout_7 (Dropout)         (None, 4096)              0         \n",
            "                                                                 \n",
            " dense_15 (Dense)            (None, 1000)              4097000   \n",
            "                                                                 \n",
            "=================================================================\n",
            "Total params: 138,387,574\n",
            "Trainable params: 138,387,574\n",
            "Non-trainable params: 0\n",
            "_________________________________________________________________\n"
          ]
        }
      ]
    },
    {
      "cell_type": "markdown",
      "source": [
        "# **Inception**"
      ],
      "metadata": {
        "id": "SEDWCfshRLBb"
      }
    },
    {
      "cell_type": "code",
      "source": [],
      "metadata": {
        "id": "fG7VKzQRQ16q"
      },
      "execution_count": null,
      "outputs": []
    }
  ]
}