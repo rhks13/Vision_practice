{
  "nbformat": 4,
  "nbformat_minor": 0,
  "metadata": {
    "colab": {
      "provenance": [],
      "authorship_tag": "ABX9TyNz68SiQGU2M9knKWicD3iU",
      "include_colab_link": true
    },
    "kernelspec": {
      "name": "python3",
      "display_name": "Python 3"
    },
    "language_info": {
      "name": "python"
    },
    "accelerator": "GPU",
    "gpuClass": "standard"
  },
  "cells": [
    {
      "cell_type": "markdown",
      "metadata": {
        "id": "view-in-github",
        "colab_type": "text"
      },
      "source": [
        "<a href=\"https://colab.research.google.com/github/rhks13/Vision_practice/blob/main/mnist_%EC%8B%A4%EC%8A%B5.ipynb\" target=\"_parent\"><img src=\"https://colab.research.google.com/assets/colab-badge.svg\" alt=\"Open In Colab\"/></a>"
      ]
    },
    {
      "cell_type": "code",
      "execution_count": null,
      "metadata": {
        "id": "axa8c6bIyiao"
      },
      "outputs": [],
      "source": [
        "import torch\n",
        "# function을 위한 데이터셋\n",
        "import torch.nn as nn\n",
        "import torch.nn.functional as F\n",
        "# 데이터 학습을 위한 모듈\n",
        "import torchvision\n",
        "import torchvision.datasets as vision_dsets\n",
        "import torchvision.transforms as T\n",
        "# 옵티마이저\n",
        "import torch.optim as optim\n",
        "#gradient, tensor를 인위적으로 만들기 위함\n",
        "from torch.autograd import Variable\n",
        "from torch.utils import data"
      ]
    },
    {
      "cell_type": "code",
      "source": [
        "import seaborn as sn\n",
        "import pandas as pd\n",
        "import matplotlib.pyplot as plt\n",
        "import numpy as np\n",
        "import itertools"
      ],
      "metadata": {
        "id": "KHItsFdSy4KS"
      },
      "execution_count": null,
      "outputs": []
    },
    {
      "cell_type": "code",
      "source": [
        "def plot_confusion_matrix(cm, target_names=None, cmap = None, normalize = True, labels = True, title = 'Confusionmatrix'):\n",
        "  accuracy = np.trace(cm) / float(np.sum(cm))\n",
        "  misclass = 1 - accuracy\n",
        "\n",
        "  if cmap is None:\n",
        "    cmap = plt.get_cmap('Blues')\n",
        "  if normalize:\n",
        "    cm = cm.astype('float') / cm.sum(axis =1)[:, np.newaxis]\n",
        "\n",
        "  plt.figure(figsize = (20,15))\n",
        "  plt.imshow(cm, interpolation = 'nearest', cmap=cmap)\n",
        "  plt.title(title)\n",
        "  plt.colorbar()\n",
        "\n",
        "  thresh = cm.max()/ 1.5 if normalize else cm.max()/2\n",
        "\n",
        "  if target_names is not None:\n",
        "    tick_marks = np.arange(len(target_names))\n",
        "    plt.xticks(tick_marks, target_names)\n",
        "    plt.yticks(tick_marks, target_names)\n",
        "  if labels:\n",
        "    for i,j in itertools.product(range(cm.shape[0]), range(cm.shape[1])):\n",
        "      if normalize:\n",
        "        plt.text(j,i,\"{:0.4f}\".format(cm[i,j]),\n",
        "                 horizontalalignment = 'center',\n",
        "                 color=\"white\" if cm[i,j] > thresh else \"black\")\n",
        "      else:\n",
        "        plt.text(j,i,\"{:,}\".format(cm[i,j]),\n",
        "                 horizontalalignment = 'center',\n",
        "                 color=\"white\" if cm[i,j] > thresh else \"black\")\n",
        "  plt.tight_layout()\n",
        "  plt.ylabel(\"True label\")\n",
        "  plt.xlabel(\" Predicted label |naccuracy={:0.4f}; misclass={:0.4f}\".format(accuracy, misclass))\n",
        "  plt.show()"
      ],
      "metadata": {
        "id": "McsY9yfuKYGm"
      },
      "execution_count": null,
      "outputs": []
    },
    {
      "cell_type": "code",
      "source": [
        "def MNIST_DATA(root='./data', download = True, batch_size = 32, num_worker =1):\n",
        "  \n",
        "  # DATASET\n",
        "  mnist_train = vision_dsets.MNIST(root = root,\n",
        "                                  train = True, # train set 호출\n",
        "                                   transform = T.ToTensor(),\n",
        "                                   download = download)\n",
        "  mnist_test = vision_dsets.MNIST(root = root,\n",
        "                                  train = False, # test set 호출\n",
        "                                   transform = T.ToTensor(),\n",
        "                                   download = download)\n",
        "  \n",
        "  # DATA Loader\n",
        "  trainDataLoader = data.DataLoader (dataset = mnist_train,\n",
        "                                     batch_size = batch_size,\n",
        "                                     shuffle = True,\n",
        "                                     num_workers = num_worker) # 일반적으로는 1,4,8 과 같이 4의 배수를 넣음\n",
        "  testDataLoader = data.DataLoader (dataset = mnist_train,\n",
        "                                     batch_size = batch_size,\n",
        "                                     shuffle = False,\n",
        "                                     num_workers = num_worker)\n",
        "  \n",
        "  print(\"[+] Finished loading data & Preprocessing\")\n",
        "  return mnist_train, mnist_test, trainDataLoader, testDataLoader"
      ],
      "metadata": {
        "id": "FHNyoLvUy9jx"
      },
      "execution_count": null,
      "outputs": []
    },
    {
      "cell_type": "code",
      "source": [
        "trainDset, testDset, trainDataLoader, testDataLoader = MNIST_DATA(batch_size = 32)"
      ],
      "metadata": {
        "colab": {
          "base_uri": "https://localhost:8080/"
        },
        "id": "mASKe3EY0hMI",
        "outputId": "0b8854c7-1898-4da1-9ca2-9ea49a8f6984"
      },
      "execution_count": null,
      "outputs": [
        {
          "output_type": "stream",
          "name": "stdout",
          "text": [
            "Downloading http://yann.lecun.com/exdb/mnist/train-images-idx3-ubyte.gz\n",
            "Downloading http://yann.lecun.com/exdb/mnist/train-images-idx3-ubyte.gz to ./data/MNIST/raw/train-images-idx3-ubyte.gz\n"
          ]
        },
        {
          "output_type": "stream",
          "name": "stderr",
          "text": [
            "100%|██████████| 9912422/9912422 [00:00<00:00, 386934371.14it/s]"
          ]
        },
        {
          "output_type": "stream",
          "name": "stdout",
          "text": [
            "Extracting ./data/MNIST/raw/train-images-idx3-ubyte.gz to ./data/MNIST/raw\n"
          ]
        },
        {
          "output_type": "stream",
          "name": "stderr",
          "text": [
            "\n"
          ]
        },
        {
          "output_type": "stream",
          "name": "stdout",
          "text": [
            "\n",
            "Downloading http://yann.lecun.com/exdb/mnist/train-labels-idx1-ubyte.gz\n",
            "Downloading http://yann.lecun.com/exdb/mnist/train-labels-idx1-ubyte.gz to ./data/MNIST/raw/train-labels-idx1-ubyte.gz\n"
          ]
        },
        {
          "output_type": "stream",
          "name": "stderr",
          "text": [
            "100%|██████████| 28881/28881 [00:00<00:00, 107485087.69it/s]"
          ]
        },
        {
          "output_type": "stream",
          "name": "stdout",
          "text": [
            "Extracting ./data/MNIST/raw/train-labels-idx1-ubyte.gz to ./data/MNIST/raw\n",
            "\n",
            "Downloading http://yann.lecun.com/exdb/mnist/t10k-images-idx3-ubyte.gz\n",
            "Downloading http://yann.lecun.com/exdb/mnist/t10k-images-idx3-ubyte.gz to ./data/MNIST/raw/t10k-images-idx3-ubyte.gz\n"
          ]
        },
        {
          "output_type": "stream",
          "name": "stderr",
          "text": [
            "\n",
            "100%|██████████| 1648877/1648877 [00:00<00:00, 117204592.62it/s]\n"
          ]
        },
        {
          "output_type": "stream",
          "name": "stdout",
          "text": [
            "Extracting ./data/MNIST/raw/t10k-images-idx3-ubyte.gz to ./data/MNIST/raw\n",
            "\n",
            "Downloading http://yann.lecun.com/exdb/mnist/t10k-labels-idx1-ubyte.gz\n",
            "Downloading http://yann.lecun.com/exdb/mnist/t10k-labels-idx1-ubyte.gz to ./data/MNIST/raw/t10k-labels-idx1-ubyte.gz\n"
          ]
        },
        {
          "output_type": "stream",
          "name": "stderr",
          "text": [
            "100%|██████████| 4542/4542 [00:00<00:00, 19741480.59it/s]"
          ]
        },
        {
          "output_type": "stream",
          "name": "stdout",
          "text": [
            "Extracting ./data/MNIST/raw/t10k-labels-idx1-ubyte.gz to ./data/MNIST/raw\n",
            "\n",
            "[+] Finished loading data & Preprocessing\n"
          ]
        },
        {
          "output_type": "stream",
          "name": "stderr",
          "text": [
            "\n"
          ]
        }
      ]
    },
    {
      "cell_type": "code",
      "source": [
        "trainDset"
      ],
      "metadata": {
        "colab": {
          "base_uri": "https://localhost:8080/"
        },
        "id": "MSyyozQB1w7G",
        "outputId": "57ebc621-0a0d-4fc2-97d4-ea01c3e14bb2"
      },
      "execution_count": null,
      "outputs": [
        {
          "output_type": "execute_result",
          "data": {
            "text/plain": [
              "Dataset MNIST\n",
              "    Number of datapoints: 60000\n",
              "    Root location: ./data\n",
              "    Split: Train\n",
              "    StandardTransform\n",
              "Transform: ToTensor()"
            ]
          },
          "metadata": {},
          "execution_count": 5
        }
      ]
    },
    {
      "cell_type": "code",
      "source": [
        "trainDset.classes"
      ],
      "metadata": {
        "colab": {
          "base_uri": "https://localhost:8080/"
        },
        "id": "v-hY_r3l2Uge",
        "outputId": "7af3f535-dba9-4de8-fff3-4663d5ea8a9f"
      },
      "execution_count": null,
      "outputs": [
        {
          "output_type": "execute_result",
          "data": {
            "text/plain": [
              "['0 - zero',\n",
              " '1 - one',\n",
              " '2 - two',\n",
              " '3 - three',\n",
              " '4 - four',\n",
              " '5 - five',\n",
              " '6 - six',\n",
              " '7 - seven',\n",
              " '8 - eight',\n",
              " '9 - nine']"
            ]
          },
          "metadata": {},
          "execution_count": 6
        }
      ]
    },
    {
      "cell_type": "code",
      "source": [
        "trainDset.class_to_idx"
      ],
      "metadata": {
        "colab": {
          "base_uri": "https://localhost:8080/"
        },
        "id": "qe3r9KMV2Vax",
        "outputId": "28716d55-bfb8-4bd8-a86e-73c584331726"
      },
      "execution_count": null,
      "outputs": [
        {
          "output_type": "execute_result",
          "data": {
            "text/plain": [
              "{'0 - zero': 0,\n",
              " '1 - one': 1,\n",
              " '2 - two': 2,\n",
              " '3 - three': 3,\n",
              " '4 - four': 4,\n",
              " '5 - five': 5,\n",
              " '6 - six': 6,\n",
              " '7 - seven': 7,\n",
              " '8 - eight': 8,\n",
              " '9 - nine': 9}"
            ]
          },
          "metadata": {},
          "execution_count": 7
        }
      ]
    },
    {
      "cell_type": "code",
      "source": [
        "trainDset.data"
      ],
      "metadata": {
        "colab": {
          "base_uri": "https://localhost:8080/"
        },
        "id": "jIii-x3O2cYl",
        "outputId": "51c1c946-aa37-4481-9fba-151c4844f48b"
      },
      "execution_count": null,
      "outputs": [
        {
          "output_type": "execute_result",
          "data": {
            "text/plain": [
              "tensor([[[0, 0, 0,  ..., 0, 0, 0],\n",
              "         [0, 0, 0,  ..., 0, 0, 0],\n",
              "         [0, 0, 0,  ..., 0, 0, 0],\n",
              "         ...,\n",
              "         [0, 0, 0,  ..., 0, 0, 0],\n",
              "         [0, 0, 0,  ..., 0, 0, 0],\n",
              "         [0, 0, 0,  ..., 0, 0, 0]],\n",
              "\n",
              "        [[0, 0, 0,  ..., 0, 0, 0],\n",
              "         [0, 0, 0,  ..., 0, 0, 0],\n",
              "         [0, 0, 0,  ..., 0, 0, 0],\n",
              "         ...,\n",
              "         [0, 0, 0,  ..., 0, 0, 0],\n",
              "         [0, 0, 0,  ..., 0, 0, 0],\n",
              "         [0, 0, 0,  ..., 0, 0, 0]],\n",
              "\n",
              "        [[0, 0, 0,  ..., 0, 0, 0],\n",
              "         [0, 0, 0,  ..., 0, 0, 0],\n",
              "         [0, 0, 0,  ..., 0, 0, 0],\n",
              "         ...,\n",
              "         [0, 0, 0,  ..., 0, 0, 0],\n",
              "         [0, 0, 0,  ..., 0, 0, 0],\n",
              "         [0, 0, 0,  ..., 0, 0, 0]],\n",
              "\n",
              "        ...,\n",
              "\n",
              "        [[0, 0, 0,  ..., 0, 0, 0],\n",
              "         [0, 0, 0,  ..., 0, 0, 0],\n",
              "         [0, 0, 0,  ..., 0, 0, 0],\n",
              "         ...,\n",
              "         [0, 0, 0,  ..., 0, 0, 0],\n",
              "         [0, 0, 0,  ..., 0, 0, 0],\n",
              "         [0, 0, 0,  ..., 0, 0, 0]],\n",
              "\n",
              "        [[0, 0, 0,  ..., 0, 0, 0],\n",
              "         [0, 0, 0,  ..., 0, 0, 0],\n",
              "         [0, 0, 0,  ..., 0, 0, 0],\n",
              "         ...,\n",
              "         [0, 0, 0,  ..., 0, 0, 0],\n",
              "         [0, 0, 0,  ..., 0, 0, 0],\n",
              "         [0, 0, 0,  ..., 0, 0, 0]],\n",
              "\n",
              "        [[0, 0, 0,  ..., 0, 0, 0],\n",
              "         [0, 0, 0,  ..., 0, 0, 0],\n",
              "         [0, 0, 0,  ..., 0, 0, 0],\n",
              "         ...,\n",
              "         [0, 0, 0,  ..., 0, 0, 0],\n",
              "         [0, 0, 0,  ..., 0, 0, 0],\n",
              "         [0, 0, 0,  ..., 0, 0, 0]]], dtype=torch.uint8)"
            ]
          },
          "metadata": {},
          "execution_count": 8
        }
      ]
    },
    {
      "cell_type": "code",
      "source": [
        "trainDset.data.shape"
      ],
      "metadata": {
        "colab": {
          "base_uri": "https://localhost:8080/"
        },
        "id": "Et2dZd0N2dz5",
        "outputId": "762c7a50-6a87-427a-e899-eaff8ed3b4a6"
      },
      "execution_count": null,
      "outputs": [
        {
          "output_type": "execute_result",
          "data": {
            "text/plain": [
              "torch.Size([60000, 28, 28])"
            ]
          },
          "metadata": {},
          "execution_count": 9
        }
      ]
    },
    {
      "cell_type": "code",
      "source": [
        "trainDset.data[0].shape"
      ],
      "metadata": {
        "colab": {
          "base_uri": "https://localhost:8080/"
        },
        "id": "IgM-WLAh2fpc",
        "outputId": "0410f3ea-cd56-4821-bf75-bb31469395e2"
      },
      "execution_count": null,
      "outputs": [
        {
          "output_type": "execute_result",
          "data": {
            "text/plain": [
              "torch.Size([28, 28])"
            ]
          },
          "metadata": {},
          "execution_count": 10
        }
      ]
    },
    {
      "cell_type": "code",
      "source": [
        "plt.imshow(trainDset.data[0], cmap = 'gray')"
      ],
      "metadata": {
        "colab": {
          "base_uri": "https://localhost:8080/",
          "height": 448
        },
        "id": "3wygo9sR2j6i",
        "outputId": "45d46dd2-b75b-4383-c102-0c1ffb9c2ed3"
      },
      "execution_count": null,
      "outputs": [
        {
          "output_type": "execute_result",
          "data": {
            "text/plain": [
              "<matplotlib.image.AxesImage at 0x7f284561ef70>"
            ]
          },
          "metadata": {},
          "execution_count": 11
        },
        {
          "output_type": "display_data",
          "data": {
            "text/plain": [
              "<Figure size 640x480 with 1 Axes>"
            ],
            "image/png": "[encoded data removed]"
          },
          "metadata": {}
        }
      ]
    },
    {
      "cell_type": "markdown",
      "source": [
        "# **Define Trainer**"
      ],
      "metadata": {
        "id": "jnBplz5727go"
      }
    },
    {
      "cell_type": "code",
      "source": [
        "class Trainer():\n",
        "  def __init__(self, trainloader, testloader, net, optimizer, criterion):\n",
        "    self.trainloader = trainloader\n",
        "    self.testloader = testloader\n",
        "    self.net = net\n",
        "    self.optimizer = optimizer\n",
        "    self.criterion = criterion\n",
        "\n",
        "  def train(self, epoch = 1):\n",
        "    self.net.train() #or net.eval\n",
        "    for e in range(epoch):\n",
        "      running_loss = 0.0\n",
        "      for i, data in enumerate(self.trainloader, 0):\n",
        "        inputs, labels = data[0], data[1]\n",
        "        inputs = inputs.cuda() # gpu training을 할거야 => 데이터를 cpu에서 gpu로 올려줘\n",
        "        labels = labels.cuda()\n",
        "        self.optimizer.zero_grad()\n",
        "\n",
        "        outputs = self.net(inputs)\n",
        "        loss = self.criterion(outputs, labels)\n",
        "        loss.backward()\n",
        "        self.optimizer.step()\n",
        "\n",
        "        running_loss += loss.item()\n",
        "        if(i+1) % 500 == 0.0:\n",
        "          print('[%d, %5d] loss: %.3f' %(e+1, i+1, running_loss/500))\n",
        "          running_loss = 0.0\n",
        "\n",
        "  def test(self):\n",
        "    self.net.eval()\n",
        "    test_loss = 0\n",
        "    correct = 0\n",
        "    for inputs, labels in self.testloader:\n",
        "      inputs = inputs.cuda()\n",
        "      labels = labels.cuda()\n",
        "      output = self.net(inputs) #size -> 32*10 (클래스의 개수만큼)\n",
        "      pred = output.max(1, keepdim=True)[1] #size -> 32*1 (가장 높은 확률의 클래스만 남겨)\n",
        "      correct += pred.eq(labels.view_as(pred)).sum().item() # 클래스와 라벨이 얼마나 같은지. \n",
        "      test_loss /= len(self.testloader.dataset) # 10,000\n",
        "    print('\\nTest set: Accuracy: {}/{} ({:.0f}%)\\n'.\n",
        "          format(correct, len(self.testloader.dataset),\n",
        "                 100.* correct/len(self.testloader.dataset)))    \n",
        "\n",
        "  def get_conf(self):\n",
        "    self.net.eval()\n",
        "    confusion = torch.zeros(10,10)\n",
        "    for inputs, labels in self.testloader:\n",
        "      inputs = inputs.cuda()\n",
        "      labels = labels.cuda()\n",
        "      output = self.net(inputs)\n",
        "      pred = torch.argmax(output, dim=1)\n",
        "\n",
        "      for num in range(output.shape[0]):\n",
        "        confusion[pred[num],labels[num]] +=1\n",
        "    return confusion"
      ],
      "metadata": {
        "id": "NrLro7JV28yZ"
      },
      "execution_count": null,
      "outputs": []
    },
    {
      "cell_type": "markdown",
      "source": [
        "### **(1) 2-Layer Network + sigmoid**\n",
        "\n",
        "\n",
        "*   input : 28 * 28\n",
        "*   hidden dimension : 30\n",
        "*   output dimension : 10\n",
        "*   activation : sigmoid\n",
        "*   optimizer : SGD\n",
        "*   loss : cross-entropy\n",
        "\n",
        "\n",
        "\n"
      ],
      "metadata": {
        "id": "4rSrLS0jERjZ"
      }
    },
    {
      "cell_type": "code",
      "source": [
        "class MNIST_Net(nn.Module):\n",
        "  def __init__(self):\n",
        "    super(MNIST_Net, self).__init__()\n",
        "    self.fc0 = nn.Linear(28*28,30)\n",
        "    self.fc1 = nn.Linear(30,10)\n",
        "    self.act = nn.Sigmoid()\n",
        "\n",
        "  def forward(self,x):\n",
        "    x = x.view(-1, 28*28) # flatten 과정 (batch_size, 28, 28) --> (batch_size, 28*28)\n",
        "    x = self.fc0(x)\n",
        "    x = self.act(x)\n",
        "    x = self.fc1(x)\n",
        "    return x\n",
        "#softmax는 밑에 nn.CrossEntropy에서 알아서 태워줍니당"
      ],
      "metadata": {
        "id": "It9DpXssDqeG"
      },
      "execution_count": null,
      "outputs": []
    },
    {
      "cell_type": "code",
      "source": [
        "mnist_net = MNIST_Net().cuda() #network를 생성한 다음 쿠다위로 올려줘\n",
        "criterion = nn.CrossEntropyLoss() #criterion 지정\n",
        "optimizer = optim.SGD(mnist_net.parameters(), lr=0.001) #사용하고자 하는 optimizer 지정해줘 #SGD속에는 train해야하는 파라미터를 넣어줘야함"
      ],
      "metadata": {
        "id": "cXUnprDAFLwb"
      },
      "execution_count": null,
      "outputs": []
    },
    {
      "cell_type": "code",
      "source": [
        "trainer = Trainer(trainloader = trainDataLoader,\n",
        "                  testloader = testDataLoader,\n",
        "                  net = mnist_net,\n",
        "                  criterion = criterion,\n",
        "                  optimizer = optimizer)"
      ],
      "metadata": {
        "id": "O3_8jujgF5Gd"
      },
      "execution_count": null,
      "outputs": []
    },
    {
      "cell_type": "code",
      "source": [
        "trainer.train(epoch = 10)"
      ],
      "metadata": {
        "colab": {
          "base_uri": "https://localhost:8080/"
        },
        "id": "sCV0avKBGIzm",
        "outputId": "bf38bd9d-d73a-4b16-802f-8583d575b8a6"
      },
      "execution_count": null,
      "outputs": [
        {
          "output_type": "stream",
          "name": "stdout",
          "text": [
            "[1,   500] loss: 2.332\n",
            "[1,  1000] loss: 2.294\n",
            "[1,  1500] loss: 2.279\n",
            "[2,   500] loss: 2.253\n",
            "[2,  1000] loss: 2.242\n",
            "[2,  1500] loss: 2.229\n",
            "[3,   500] loss: 2.207\n",
            "[3,  1000] loss: 2.193\n",
            "[3,  1500] loss: 2.179\n",
            "[4,   500] loss: 2.152\n",
            "[4,  1000] loss: 2.136\n",
            "[4,  1500] loss: 2.121\n",
            "[5,   500] loss: 2.087\n",
            "[5,  1000] loss: 2.069\n",
            "[5,  1500] loss: 2.050\n",
            "[6,   500] loss: 2.009\n",
            "[6,  1000] loss: 1.989\n",
            "[6,  1500] loss: 1.963\n",
            "[7,   500] loss: 1.921\n",
            "[7,  1000] loss: 1.899\n",
            "[7,  1500] loss: 1.869\n",
            "[8,   500] loss: 1.823\n",
            "[8,  1000] loss: 1.797\n",
            "[8,  1500] loss: 1.769\n",
            "[9,   500] loss: 1.719\n",
            "[9,  1000] loss: 1.695\n",
            "[9,  1500] loss: 1.672\n",
            "[10,   500] loss: 1.625\n",
            "[10,  1000] loss: 1.593\n",
            "[10,  1500] loss: 1.570\n"
          ]
        }
      ]
    },
    {
      "cell_type": "code",
      "source": [
        "trainer.test()"
      ],
      "metadata": {
        "colab": {
          "base_uri": "https://localhost:8080/"
        },
        "id": "vcNtECeNGTI6",
        "outputId": "e299a928-fc22-4c14-ffa7-0bb5f87728f5"
      },
      "execution_count": null,
      "outputs": [
        {
          "output_type": "stream",
          "name": "stdout",
          "text": [
            "\n",
            "Test set: Accuracy: 41636/60000 (69%)\n",
            "\n"
          ]
        }
      ]
    },
    {
      "cell_type": "markdown",
      "source": [
        "### **(1) 2-Layer Network + ReLU**\n",
        "\n",
        "\n",
        "*   input : 28 * 28\n",
        "*   hidden dimension : 30\n",
        "*   output dimension : 10\n",
        "*   activation : sigmoid\n",
        "*   optimizer : SGD\n",
        "*   loss : cross-entropy\n",
        "\n",
        "\n",
        "\n",
        "\n",
        "\n",
        "\n",
        "\n",
        "\n"
      ],
      "metadata": {
        "id": "cq2VF7ZJI5Gk"
      }
    },
    {
      "cell_type": "code",
      "source": [
        "class MNIST_Net(nn.Module):\n",
        "  def __init__(self):\n",
        "    super(MNIST_Net, self).__init__()\n",
        "    self.fc0 = nn.Linear(28*28,30)\n",
        "    self.fc1 = nn.Linear(30,10)\n",
        "    self.act = nn.ReLU()\n",
        "\n",
        "  def forward(self,x):\n",
        "    x = x.view(-1, 28*28)\n",
        "    x = self.fc0(x)\n",
        "    x = self.act(x)\n",
        "    x = self.fc1(x)\n",
        "    return x"
      ],
      "metadata": {
        "id": "Dsl21AXsImDl"
      },
      "execution_count": null,
      "outputs": []
    },
    {
      "cell_type": "code",
      "source": [
        "mnist_net = MNIST_Net().cuda() #network를 생성한 다음 쿠다위로 올려줘\n",
        "criterion = nn.CrossEntropyLoss() #criterion 지정\n",
        "optimizer = optim.SGD(mnist_net.parameters(), lr=0.001) #사용하고자 하는 optimizer 지정해줘 #SGD속에는 train해야하는 파라미터를 넣어줘야함"
      ],
      "metadata": {
        "id": "F_mEEZozJf-B"
      },
      "execution_count": null,
      "outputs": []
    },
    {
      "cell_type": "code",
      "source": [
        "trainer = Trainer(trainloader = trainDataLoader,\n",
        "                  testloader = testDataLoader,\n",
        "                  net = mnist_net,\n",
        "                  criterion = criterion,\n",
        "                  optimizer = optimizer)"
      ],
      "metadata": {
        "id": "WA0P_gfJJlS0"
      },
      "execution_count": null,
      "outputs": []
    },
    {
      "cell_type": "code",
      "source": [
        "trainer.train(epoch = 10)"
      ],
      "metadata": {
        "colab": {
          "base_uri": "https://localhost:8080/"
        },
        "id": "b_N0kC09JqXn",
        "outputId": "54159a5e-5646-49f2-87c8-1837d6b41680"
      },
      "execution_count": null,
      "outputs": [
        {
          "output_type": "stream",
          "name": "stdout",
          "text": [
            "[1,   500] loss: 2.275\n",
            "[1,  1000] loss: 2.193\n",
            "[1,  1500] loss: 2.076\n",
            "[2,   500] loss: 1.835\n",
            "[2,  1000] loss: 1.679\n",
            "[2,  1500] loss: 1.527\n",
            "[3,   500] loss: 1.275\n",
            "[3,  1000] loss: 1.153\n",
            "[3,  1500] loss: 1.050\n",
            "[4,   500] loss: 0.920\n",
            "[4,  1000] loss: 0.848\n",
            "[4,  1500] loss: 0.814\n",
            "[5,   500] loss: 0.737\n",
            "[5,  1000] loss: 0.704\n",
            "[5,  1500] loss: 0.672\n",
            "[6,   500] loss: 0.629\n",
            "[6,  1000] loss: 0.605\n",
            "[6,  1500] loss: 0.604\n",
            "[7,   500] loss: 0.557\n",
            "[7,  1000] loss: 0.555\n",
            "[7,  1500] loss: 0.538\n",
            "[8,   500] loss: 0.512\n",
            "[8,  1000] loss: 0.511\n",
            "[8,  1500] loss: 0.508\n",
            "[9,   500] loss: 0.487\n",
            "[9,  1000] loss: 0.474\n",
            "[9,  1500] loss: 0.470\n",
            "[10,   500] loss: 0.461\n",
            "[10,  1000] loss: 0.453\n",
            "[10,  1500] loss: 0.446\n"
          ]
        }
      ]
    },
    {
      "cell_type": "code",
      "source": [
        "trainer.test()"
      ],
      "metadata": {
        "colab": {
          "base_uri": "https://localhost:8080/"
        },
        "id": "I2W2X-3MJr6Q",
        "outputId": "feffb3d7-1355-452e-acc7-d76dd2fd04ca"
      },
      "execution_count": null,
      "outputs": [
        {
          "output_type": "stream",
          "name": "stdout",
          "text": [
            "\n",
            "Test set: Accuracy: 52935/60000 (88%)\n",
            "\n"
          ]
        }
      ]
    },
    {
      "cell_type": "code",
      "source": [
        "plot_confusion_matrix(trainer.get_conf().numpy())"
      ],
      "metadata": {
        "colab": {
          "base_uri": "https://localhost:8080/",
          "height": 626
        },
        "id": "oZp1ZZVCL7kr",
        "outputId": "01d18aa4-22d0-439d-8e1b-509688576756"
      },
      "execution_count": null,
      "outputs": [
        {
          "output_type": "display_data",
          "data": {
            "text/plain": [
              "<Figure size 2000x1500 with 2 Axes>"
            ],
            "image/png": "[encoded data removed]"
          },
          "metadata": {}
        }
      ]
    },
    {
      "cell_type": "markdown",
      "source": [
        "5,8,9 -> 여전히 잘 못맞추고 있어\n",
        "\n",
        "왜 안좋을까?\n",
        "\n",
        "confusionmat을 유의깊게 봐보자\n",
        "\n",
        "추가적으로 노력할 수 있는 부분 많음\n",
        "activation fucnt를 바꾸거나\n",
        "30을 더 늘리거나\n",
        "epoch을 더 늘리거나\n",
        "layer 더 많이 쌓을 수 있음\n",
        "learning rate 조정 "
      ],
      "metadata": {
        "id": "E3-fegJqNe4u"
      }
    },
    {
      "cell_type": "code",
      "source": [
        "def count_parameters(model):\n",
        "  return sum(p.numel() for p in model.parameters() if p.requires_grad)\n",
        "\n",
        "count_parameters(mnist_net)"
      ],
      "metadata": {
        "colab": {
          "base_uri": "https://localhost:8080/"
        },
        "id": "8tcg4ZJTJuGT",
        "outputId": "bf882736-f861-4ab1-c0c7-c38137e4fd38"
      },
      "execution_count": null,
      "outputs": [
        {
          "output_type": "execute_result",
          "data": {
            "text/plain": [
              "23860"
            ]
          },
          "metadata": {},
          "execution_count": 69
        }
      ]
    },
    {
      "cell_type": "code",
      "source": [],
      "metadata": {
        "id": "W_s2YnbrNhwF"
      },
      "execution_count": null,
      "outputs": []
    }
  ]
}