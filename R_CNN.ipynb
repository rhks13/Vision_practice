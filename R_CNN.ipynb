{
  "nbformat": 4,
  "nbformat_minor": 0,
  "metadata": {
    "colab": {
      "provenance": [],
      "mount_file_id": "153Fwk6JMFxaQ-ZBnUtdxk3kwpO5qDBf9",
      "authorship_tag": "ABX9TyN3K6kf1rszBUXX581hc0w2",
      "include_colab_link": true
    },
    "kernelspec": {
      "name": "python3",
      "display_name": "Python 3"
    },
    "language_info": {
      "name": "python"
    }
  },
  "cells": [
    {
      "cell_type": "markdown",
      "metadata": {
        "id": "view-in-github",
        "colab_type": "text"
      },
      "source": [
        "<a href=\"https://colab.research.google.com/github/rhks13/Vision_practice/blob/main/R_CNN.ipynb\" target=\"_parent\"><img src=\"https://colab.research.google.com/assets/colab-badge.svg\" alt=\"Open In Colab\"/></a>"
      ]
    },
    {
      "cell_type": "code",
      "source": [
        "from google.colab import drive\n",
        "drive.mount('/content/drive')"
      ],
      "metadata": {
        "colab": {
          "base_uri": "https://localhost:8080/"
        },
        "id": "wBquM2cobAoq",
        "outputId": "6ee22e27-b65d-4a74-ce78-12a288ca4fcd"
      },
      "execution_count": 5,
      "outputs": [
        {
          "output_type": "stream",
          "name": "stdout",
          "text": [
            "Drive already mounted at /content/drive; to attempt to forcibly remount, call drive.mount(\"/content/drive\", force_remount=True).\n"
          ]
        }
      ]
    },
    {
      "cell_type": "code",
      "execution_count": null,
      "metadata": {
        "id": "Sc6X9p5LZ3jA"
      },
      "outputs": [],
      "source": [
        "!pip install cython\n",
        "!pip install pycocotools\n",
        "\n",
        "# 필요한 패키지를 설치합니다.\n",
        "\n",
        "import os\n",
        "import urllib.request\n",
        "\n",
        "# 압축 파일의 URL을 지정합니다.\n",
        "url = 'http://images.cocodataset.org/zips/train2017.zip'"
      ]
    },
    {
      "cell_type": "code",
      "source": [
        "save_path = '/content/drive/MyDrive/AI/VISION/data'\n",
        "# 지정한 경로에 압축 파일을 다운로드 받습니다.\n",
        "urllib.request.urlretrieve(url, os.path.join(save_path, 'train2017.zip'))\n",
        "\n",
        "# 압축 파일을 풀기 위해 필요한 패키지를 설치합니다.\n",
        "!apt-get install unzip\n",
        "\n",
        "# 압축 파일을 풉니다.\n",
        "!unzip -q {os.path.join(save_path, 'train2017.zip')} -d {save_path}\n",
        "\n",
        "# 압축 파일을 삭제합니다.\n",
        "os.remove(os.path.join(save_path, 'train2017.zip'))"
      ],
      "metadata": {
        "id": "MLmGzgURa_dm"
      },
      "execution_count": null,
      "outputs": []
    }
  ]
}